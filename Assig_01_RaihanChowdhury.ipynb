{
 "cells": [
  {
   "cell_type": "markdown",
   "id": "c9157da4-1d73-41c9-9e35-e2c2e3c66caa",
   "metadata": {},
   "source": [
    "                                                         #Q1\n",
    "                                                   #Create variable "
   ]
  },
  {
   "cell_type": "code",
   "execution_count": 2,
   "id": "a1a1f68d-3711-40ad-b832-b1fb8273f33d",
   "metadata": {},
   "outputs": [
    {
     "name": "stdout",
     "output_type": "stream",
     "text": [
      "Raihan\n"
     ]
    }
   ],
   "source": [
    "#string\n",
    "str=\"Raihan\"\n",
    "print(str)"
   ]
  },
  {
   "cell_type": "code",
   "execution_count": 3,
   "id": "aba03970-26b3-4938-8f75-05dd0385c42d",
   "metadata": {},
   "outputs": [
    {
     "name": "stdout",
     "output_type": "stream",
     "text": [
      "[10, 20, 'pwskills']\n"
     ]
    }
   ],
   "source": [
    "#list\n",
    "lst=[10,20,\"pwskills\"]\n",
    "print(lst)"
   ]
  },
  {
   "cell_type": "code",
   "execution_count": 4,
   "id": "10273a0b-7a4c-4a71-ace7-9bb7ec6feca7",
   "metadata": {},
   "outputs": [
    {
     "name": "stdout",
     "output_type": "stream",
     "text": [
      "20.53\n"
     ]
    }
   ],
   "source": [
    "#float\n",
    "flt=20.53\n",
    "print(flt)"
   ]
  },
  {
   "cell_type": "code",
   "execution_count": 9,
   "id": "e65466dd-c298-49b1-82e6-549af48ec029",
   "metadata": {},
   "outputs": [
    {
     "name": "stdout",
     "output_type": "stream",
     "text": [
      "(10, 20, 'pwskills')\n"
     ]
    }
   ],
   "source": [
    "#tuple\n",
    "tup=(10,20,\"pwskills\")\n",
    "print(tup)"
   ]
  },
  {
   "cell_type": "markdown",
   "id": "99ea31f6-bc30-449c-b432-1743a9b96033",
   "metadata": {},
   "source": [
    "                                                          #Q2\n",
    "                                                   #Create variable "
   ]
  },
  {
   "cell_type": "markdown",
   "id": "67621fdd-9177-42de-b072-6ff8ce2a2034",
   "metadata": {},
   "source": [
    "Var1=empty string\n",
    "var2=String\n",
    "var3=List\n",
    "var4=integer"
   ]
  },
  {
   "cell_type": "markdown",
   "id": "a6adf1df-7728-4a42-b200-a2bfd080ed37",
   "metadata": {},
   "source": [
    "                                                           #Q3\n",
    "                                                   #operators Using"
   ]
  },
  {
   "cell_type": "code",
   "execution_count": 20,
   "id": "2473c1af-1270-4624-9022-d3f26976d1e0",
   "metadata": {},
   "outputs": [
    {
     "name": "stdout",
     "output_type": "stream",
     "text": [
      "10.0\n"
     ]
    }
   ],
   "source": [
    "#(i)\n",
    "#using this / operator, we use it as divider.\n",
    "\n",
    "div=50/5\n",
    "print(div)\n"
   ]
  },
  {
   "cell_type": "code",
   "execution_count": 21,
   "id": "e329f575-a94d-4a81-ba17-bb151c3e1949",
   "metadata": {},
   "outputs": [
    {
     "name": "stdout",
     "output_type": "stream",
     "text": [
      "2\n"
     ]
    }
   ],
   "source": [
    "#(ii)\n",
    "#using this % operator, we use it for finding reminder.\n",
    "\n",
    "div=7%5\n",
    "print(div)"
   ]
  },
  {
   "cell_type": "code",
   "execution_count": 26,
   "id": "5036ddaf-db68-43f5-8953-9e3f87077dc9",
   "metadata": {},
   "outputs": [
    {
     "name": "stdout",
     "output_type": "stream",
     "text": [
      "7\n"
     ]
    }
   ],
   "source": [
    "#(iii) //\n",
    "#using this // operator, we use it for floor division.\n",
    "\n",
    "floor=15//2\n",
    "print(floor)"
   ]
  },
  {
   "cell_type": "code",
   "execution_count": 27,
   "id": "6daa8a7a-de13-448c-8bb0-15787817c722",
   "metadata": {},
   "outputs": [
    {
     "name": "stdout",
     "output_type": "stream",
     "text": [
      "9\n"
     ]
    }
   ],
   "source": [
    "#(iv) **\n",
    "#using this ** operator, we use it for power of any number.\n",
    "\n",
    "power=3**2\n",
    "print(power)"
   ]
  },
  {
   "cell_type": "markdown",
   "id": "47f8192e-b9f3-4979-8472-69bafcc19e00",
   "metadata": {},
   "source": [
    "                                                            #Q4\n",
    "                                               #list Printing with number"
   ]
  },
  {
   "cell_type": "code",
   "execution_count": 29,
   "id": "65d214cb-0d3a-43fd-adab-a8402003a9ba",
   "metadata": {},
   "outputs": [],
   "source": [
    "li=[1,2,3,\"raihan\",True,20.5]"
   ]
  },
  {
   "cell_type": "code",
   "execution_count": 32,
   "id": "cd13be23-c787-49b8-b8c0-b32bfab4612f",
   "metadata": {},
   "outputs": [
    {
     "name": "stdout",
     "output_type": "stream",
     "text": [
      "1\n",
      "<class 'int'>\n",
      "2\n",
      "<class 'int'>\n",
      "3\n",
      "<class 'int'>\n",
      "raihan\n",
      "<class 'str'>\n",
      "True\n",
      "<class 'bool'>\n",
      "20.5\n",
      "<class 'float'>\n"
     ]
    }
   ],
   "source": [
    "for i in li:\n",
    "    print(i)\n",
    "    print(type(i))"
   ]
  },
  {
   "cell_type": "markdown",
   "id": "7f7c3d61-c3f0-4c9b-ac2e-b097d75e8f65",
   "metadata": {},
   "source": [
    "                                                           #Q6\n",
    "                                                    #list and divide"
   ]
  },
  {
   "cell_type": "code",
   "execution_count": 48,
   "id": "bd9cc799-7da5-4ded-993a-4b37a0d3df27",
   "metadata": {},
   "outputs": [
    {
     "ename": "SyntaxError",
     "evalue": "incomplete input (2975781284.py, line 6)",
     "output_type": "error",
     "traceback": [
      "\u001b[0;36m  Cell \u001b[0;32mIn[48], line 6\u001b[0;36m\u001b[0m\n\u001b[0;31m    \u001b[0m\n\u001b[0m    ^\u001b[0m\n\u001b[0;31mSyntaxError\u001b[0m\u001b[0;31m:\u001b[0m incomplete input\n"
     ]
    }
   ],
   "source": [
    "a=20\n",
    "b=4\n",
    "i=1\n",
    "while a%b==0:\n",
    "    print(\n",
    "    \n"
   ]
  },
  {
   "cell_type": "markdown",
   "id": "e58902ec-e8fc-4729-a951-1fa810f1810b",
   "metadata": {},
   "source": [
    "                                                           #Q6\n",
    "                                                    #list and divide"
   ]
  },
  {
   "cell_type": "code",
   "execution_count": 35,
   "id": "9d35183c-4fe3-4fbb-acc5-ad6f0a3a86e4",
   "metadata": {},
   "outputs": [
    {
     "name": "stdout",
     "output_type": "stream",
     "text": [
      "[0, 1, 2, 3, 4, 5, 6, 7, 8, 9, 10, 11, 12, 13, 14, 15, 16, 17, 18, 19, 20, 21, 22, 23, 24, 25]\n"
     ]
    }
   ],
   "source": [
    "print(list(range(0,26)))"
   ]
  },
  {
   "cell_type": "code",
   "execution_count": 40,
   "id": "37dae16d-5885-44cb-af06-8bcca91469c1",
   "metadata": {},
   "outputs": [],
   "source": [
    "numbers=[0, 1, 2, 3, 4, 5, 6, 7, 8, 9, 10, 11, 12, 13, 14, 15, 16, 17, 18, 19, 20, 21, 22, 23, 24, 25]"
   ]
  },
  {
   "cell_type": "code",
   "execution_count": 47,
   "id": "377d7e75-08ac-40d0-bb47-4e50a99d9bcb",
   "metadata": {},
   "outputs": [
    {
     "name": "stdout",
     "output_type": "stream",
     "text": [
      " 0 is dividable by 3\n",
      " 1 is not dividable by 3\n",
      " 2 is not dividable by 3\n",
      " 3 is dividable by 3\n",
      " 4 is not dividable by 3\n",
      " 5 is not dividable by 3\n",
      " 6 is dividable by 3\n",
      " 7 is not dividable by 3\n",
      " 8 is not dividable by 3\n",
      " 9 is dividable by 3\n",
      " 10 is not dividable by 3\n",
      " 11 is not dividable by 3\n",
      " 12 is dividable by 3\n",
      " 13 is not dividable by 3\n",
      " 14 is not dividable by 3\n",
      " 15 is dividable by 3\n",
      " 16 is not dividable by 3\n",
      " 17 is not dividable by 3\n",
      " 18 is dividable by 3\n",
      " 19 is not dividable by 3\n",
      " 20 is not dividable by 3\n",
      " 21 is dividable by 3\n",
      " 22 is not dividable by 3\n",
      " 23 is not dividable by 3\n",
      " 24 is dividable by 3\n",
      " 25 is not dividable by 3\n"
     ]
    }
   ],
   "source": [
    "for i in numbers:\n",
    "    if i % 3 == 0:\n",
    "        print(f\" {i} is dividable by 3\")\n",
    "    else:\n",
    "        print(f\" {i} is not dividable by 3\")"
   ]
  },
  {
   "cell_type": "markdown",
   "id": "4d06f5a1-466e-42e1-869a-c219e63a6397",
   "metadata": {},
   "source": [
    "                                                           #Q7\n",
    "                                                    #Mutable & Immutable"
   ]
  },
  {
   "cell_type": "code",
   "execution_count": 49,
   "id": "bd5e539b-7592-4ec5-92c1-820bef8d579e",
   "metadata": {},
   "outputs": [],
   "source": [
    "#mutable\n",
    "li=[1,2,3,4,5,6]"
   ]
  },
  {
   "cell_type": "code",
   "execution_count": 50,
   "id": "27ce8d6a-7e4c-4f70-894e-78310d0c8f1e",
   "metadata": {},
   "outputs": [
    {
     "data": {
      "text/plain": [
       "1"
      ]
     },
     "execution_count": 50,
     "metadata": {},
     "output_type": "execute_result"
    }
   ],
   "source": [
    "li[0]"
   ]
  },
  {
   "cell_type": "code",
   "execution_count": 51,
   "id": "67001dca-26f6-4eb2-be55-e1a63b407525",
   "metadata": {},
   "outputs": [],
   "source": [
    "li[0]=25"
   ]
  },
  {
   "cell_type": "code",
   "execution_count": 52,
   "id": "46813b76-b9fb-4064-99ed-29cfe2be4f67",
   "metadata": {},
   "outputs": [
    {
     "name": "stdout",
     "output_type": "stream",
     "text": [
      "[25, 2, 3, 4, 5, 6]\n"
     ]
    }
   ],
   "source": [
    "print(li)"
   ]
  },
  {
   "cell_type": "markdown",
   "id": "fa4170a6-3ea9-45a0-b9a1-bd59438d1df6",
   "metadata": {},
   "source": [
    "mutable means which can can modify"
   ]
  },
  {
   "cell_type": "code",
   "execution_count": 59,
   "id": "2a175417-0163-4123-80c1-4870f557379f",
   "metadata": {},
   "outputs": [],
   "source": [
    "#immutable\n",
    "tup2=(1.2,3,4,5)"
   ]
  },
  {
   "cell_type": "code",
   "execution_count": 61,
   "id": "fa809b93-5abf-460f-b465-f0ecac8d1d8c",
   "metadata": {},
   "outputs": [
    {
     "ename": "NameError",
     "evalue": "name 'tup2' is not defined",
     "output_type": "error",
     "traceback": [
      "\u001b[0;31m---------------------------------------------------------------------------\u001b[0m",
      "\u001b[0;31mNameError\u001b[0m                                 Traceback (most recent call last)",
      "Cell \u001b[0;32mIn[61], line 1\u001b[0m\n\u001b[0;32m----> 1\u001b[0m \u001b[38;5;28mprint\u001b[39m(\u001b[43mtup2\u001b[49m[\u001b[38;5;241m2\u001b[39m])\n",
      "\u001b[0;31mNameError\u001b[0m: name 'tup2' is not defined"
     ]
    }
   ],
   "source": [
    "print(tup2[2])"
   ]
  },
  {
   "cell_type": "code",
   "execution_count": null,
   "id": "9fa51ec4-323e-48c0-945b-338078c824ac",
   "metadata": {},
   "outputs": [],
   "source": [
    "#immutable means once its updated,you can modify the value"
   ]
  }
 ],
 "metadata": {
  "kernelspec": {
   "display_name": "Python 3 (ipykernel)",
   "language": "python",
   "name": "python3"
  },
  "language_info": {
   "codemirror_mode": {
    "name": "ipython",
    "version": 3
   },
   "file_extension": ".py",
   "mimetype": "text/x-python",
   "name": "python",
   "nbconvert_exporter": "python",
   "pygments_lexer": "ipython3",
   "version": "3.10.8"
  }
 },
 "nbformat": 4,
 "nbformat_minor": 5
}
